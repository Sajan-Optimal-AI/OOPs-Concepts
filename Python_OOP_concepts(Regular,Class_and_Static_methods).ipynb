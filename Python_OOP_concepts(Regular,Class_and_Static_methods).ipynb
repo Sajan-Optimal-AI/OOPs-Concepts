{
  "nbformat": 4,
  "nbformat_minor": 0,
  "metadata": {
    "colab": {
      "name": "Python OOP concepts(Regular,Class and Static methods).ipynb",
      "provenance": []
    },
    "kernelspec": {
      "name": "python3",
      "display_name": "Python 3"
    },
    "language_info": {
      "name": "python"
    }
  },
  "cells": [
    {
      "cell_type": "markdown",
      "source": [
        "Regular Methods"
      ],
      "metadata": {
        "id": "Y7BOOQugarxF"
      }
    },
    {
      "cell_type": "code",
      "source": [
        "#Here 'self' is Instance , 'first','last','pay' is Arguments , 'Employee' is class and 'def__init__()' is method"
      ],
      "metadata": {
        "id": "zlhHoZHW5MoV"
      },
      "execution_count": 1,
      "outputs": []
    },
    {
      "cell_type": "code",
      "execution_count": 2,
      "metadata": {
        "id": "wMY8qwop2sn7"
      },
      "outputs": [],
      "source": [
        "class Employee:\n",
        "  def __init__(self, first, last, pay):\n",
        "    self.first = first\n",
        "    self.last = last\n",
        "    self.pay = pay\n",
        "    self.email = first +'.'+last+'@company.com'\n",
        "\n",
        "emp_1 = Employee('Sudhir','Sajan', 50000)\n",
        "emp_2 = Employee('Sathya','Raja',20000)"
      ]
    },
    {
      "cell_type": "code",
      "source": [
        "#emp_1 & emp_2 is instances"
      ],
      "metadata": {
        "id": "00SYjEa9J5nb"
      },
      "execution_count": null,
      "outputs": []
    },
    {
      "cell_type": "code",
      "source": [
        "emp_1.first"
      ],
      "metadata": {
        "colab": {
          "base_uri": "https://localhost:8080/",
          "height": 35
        },
        "id": "dgQ7dk_j7ead",
        "outputId": "7161616c-3622-4fa7-88bc-b007425ed644"
      },
      "execution_count": 3,
      "outputs": [
        {
          "output_type": "execute_result",
          "data": {
            "text/plain": [
              "'Sudhir'"
            ],
            "application/vnd.google.colaboratory.intrinsic+json": {
              "type": "string"
            }
          },
          "metadata": {},
          "execution_count": 3
        }
      ]
    },
    {
      "cell_type": "code",
      "source": [
        "emp_1.last"
      ],
      "metadata": {
        "colab": {
          "base_uri": "https://localhost:8080/",
          "height": 35
        },
        "id": "6Jm3SMHv7oEV",
        "outputId": "bd9f2707-1098-4003-c5f9-8d59fe6ddb4f"
      },
      "execution_count": 4,
      "outputs": [
        {
          "output_type": "execute_result",
          "data": {
            "text/plain": [
              "'Sajan'"
            ],
            "application/vnd.google.colaboratory.intrinsic+json": {
              "type": "string"
            }
          },
          "metadata": {},
          "execution_count": 4
        }
      ]
    },
    {
      "cell_type": "code",
      "source": [
        "emp_1.pay"
      ],
      "metadata": {
        "colab": {
          "base_uri": "https://localhost:8080/"
        },
        "id": "xKrErJdA7q7E",
        "outputId": "a0f0a988-6cfe-4f67-84ab-662407ff778e"
      },
      "execution_count": 5,
      "outputs": [
        {
          "output_type": "execute_result",
          "data": {
            "text/plain": [
              "50000"
            ]
          },
          "metadata": {},
          "execution_count": 5
        }
      ]
    },
    {
      "cell_type": "code",
      "source": [
        "emp_1.email"
      ],
      "metadata": {
        "colab": {
          "base_uri": "https://localhost:8080/",
          "height": 35
        },
        "id": "54hfc_f77tl1",
        "outputId": "8eac2796-3084-4783-efda-f1e741bd21a4"
      },
      "execution_count": 6,
      "outputs": [
        {
          "output_type": "execute_result",
          "data": {
            "text/plain": [
              "'Sudhir.Sajan@company.com'"
            ],
            "application/vnd.google.colaboratory.intrinsic+json": {
              "type": "string"
            }
          },
          "metadata": {},
          "execution_count": 6
        }
      ]
    },
    {
      "cell_type": "code",
      "source": [
        "class A:\n",
        "  def __init__(self, s):\n",
        "    self.s = s\n",
        "\n",
        "  def print(self):\n",
        "    return '{}'.format(self.s)\n",
        "\n",
        "a = A('Jhon')\n",
        "\n"
      ],
      "metadata": {
        "id": "x-CisPDVVslD"
      },
      "execution_count": 38,
      "outputs": []
    },
    {
      "cell_type": "code",
      "source": [
        "a.print()"
      ],
      "metadata": {
        "colab": {
          "base_uri": "https://localhost:8080/",
          "height": 35
        },
        "id": "gZRFl4McVs6T",
        "outputId": "9a348ec0-1acd-480e-b4be-1b6e5e1bf489"
      },
      "execution_count": 39,
      "outputs": [
        {
          "output_type": "execute_result",
          "data": {
            "text/plain": [
              "'Jhon'"
            ],
            "application/vnd.google.colaboratory.intrinsic+json": {
              "type": "string"
            }
          },
          "metadata": {},
          "execution_count": 39
        }
      ]
    },
    {
      "cell_type": "code",
      "source": [
        "a.s"
      ],
      "metadata": {
        "colab": {
          "base_uri": "https://localhost:8080/",
          "height": 35
        },
        "id": "KOw7OqIVXYGt",
        "outputId": "dd64428f-9420-4ca3-aee9-0ed060419ec8"
      },
      "execution_count": 40,
      "outputs": [
        {
          "output_type": "execute_result",
          "data": {
            "text/plain": [
              "'Jhon'"
            ],
            "application/vnd.google.colaboratory.intrinsic+json": {
              "type": "string"
            }
          },
          "metadata": {},
          "execution_count": 40
        }
      ]
    },
    {
      "cell_type": "code",
      "source": [
        "class Employee:\n",
        "  def __init__(self, first, last, pay):\n",
        "    self.first = first\n",
        "    self.last = last\n",
        "    self.pay = pay\n",
        "    self.email = first +'.'+last+'@company.com'\n",
        "  \n",
        "  def fullname(self):\n",
        "    return '{} {}'.format(self.first, self.last)\n",
        "\n",
        "emp_1 = Employee('Sudhir','Sajan', 50000)\n",
        "emp_2 = Employee('Sathya','Raja',20000)"
      ],
      "metadata": {
        "id": "XC2MjA3t9hEd"
      },
      "execution_count": 11,
      "outputs": []
    },
    {
      "cell_type": "code",
      "source": [
        "emp_2.fullname()"
      ],
      "metadata": {
        "colab": {
          "base_uri": "https://localhost:8080/",
          "height": 35
        },
        "id": "hXSULeK_9hr1",
        "outputId": "dba02bee-2dee-428a-81a6-ab07ba2fbbc1"
      },
      "execution_count": 14,
      "outputs": [
        {
          "output_type": "execute_result",
          "data": {
            "text/plain": [
              "'Sathya Raja'"
            ],
            "application/vnd.google.colaboratory.intrinsic+json": {
              "type": "string"
            }
          },
          "metadata": {},
          "execution_count": 14
        }
      ]
    },
    {
      "cell_type": "code",
      "source": [
        "Employee.fullname(emp_2)"
      ],
      "metadata": {
        "colab": {
          "base_uri": "https://localhost:8080/",
          "height": 35
        },
        "id": "U00ZxA5_-VN-",
        "outputId": "61c7f43d-04f1-4a47-b3d9-ded945c3bce2"
      },
      "execution_count": 15,
      "outputs": [
        {
          "output_type": "execute_result",
          "data": {
            "text/plain": [
              "'Sathya Raja'"
            ],
            "application/vnd.google.colaboratory.intrinsic+json": {
              "type": "string"
            }
          },
          "metadata": {},
          "execution_count": 15
        }
      ]
    },
    {
      "cell_type": "markdown",
      "source": [
        "Class Variables"
      ],
      "metadata": {
        "id": "NQ1nWnPlKD2J"
      }
    },
    {
      "cell_type": "code",
      "source": [
        "class Employee:\n",
        "  raise_amount = 1.04\n",
        "\n",
        "  def __init__(self, first, last, pay):\n",
        "    self.first = first\n",
        "    self.last = last\n",
        "    self.pay = pay\n",
        "    self.email = first +'.'+ last +'@company.com'\n",
        "  \n",
        "  def fullname(self):\n",
        "    return '{} {}'.format(self.first, self.last)\n",
        "\n",
        "  def apply_raise(self):\n",
        "    self.pay = int(self.pay * self.raise_amount)\n",
        "\n",
        "emp_1 = Employee('Sudhir','Sajan', 50000)\n",
        "emp_2 = Employee('Sathya','Raja',20000)\n",
        "\n"
      ],
      "metadata": {
        "colab": {
          "base_uri": "https://localhost:8080/"
        },
        "id": "6OuUcXq0_ibX",
        "outputId": "f8e61a28-c02b-4022-eca0-c0f2efc02a22"
      },
      "execution_count": 27,
      "outputs": [
        {
          "output_type": "stream",
          "name": "stdout",
          "text": [
            "50000\n"
          ]
        }
      ]
    },
    {
      "cell_type": "code",
      "source": [
        "#raise_amount >> class variables"
      ],
      "metadata": {
        "id": "aBn8Luq3LQ4x"
      },
      "execution_count": null,
      "outputs": []
    },
    {
      "cell_type": "code",
      "source": [
        "Employee.raise_amount"
      ],
      "metadata": {
        "colab": {
          "base_uri": "https://localhost:8080/"
        },
        "id": "ouXMYbHXJs2n",
        "outputId": "e1e701df-7168-4740-d412-4c8f1730b99d"
      },
      "execution_count": 20,
      "outputs": [
        {
          "output_type": "execute_result",
          "data": {
            "text/plain": [
              "1.04"
            ]
          },
          "metadata": {},
          "execution_count": 20
        }
      ]
    },
    {
      "cell_type": "code",
      "source": [
        "emp_1.raise_amount"
      ],
      "metadata": {
        "colab": {
          "base_uri": "https://localhost:8080/"
        },
        "id": "VFSzxJJmJtEb",
        "outputId": "030a8a70-6456-43b1-9ffd-3cda88858f25"
      },
      "execution_count": 21,
      "outputs": [
        {
          "output_type": "execute_result",
          "data": {
            "text/plain": [
              "1.04"
            ]
          },
          "metadata": {},
          "execution_count": 21
        }
      ]
    },
    {
      "cell_type": "code",
      "source": [
        "emp_2.raise_amount"
      ],
      "metadata": {
        "colab": {
          "base_uri": "https://localhost:8080/"
        },
        "id": "InLG6V3ZJwK_",
        "outputId": "1c43d3ed-f1f1-4a6f-d8c2-c307fbac56d3"
      },
      "execution_count": 22,
      "outputs": [
        {
          "output_type": "execute_result",
          "data": {
            "text/plain": [
              "1.04"
            ]
          },
          "metadata": {},
          "execution_count": 22
        }
      ]
    },
    {
      "cell_type": "code",
      "source": [
        "emp_1.pay"
      ],
      "metadata": {
        "colab": {
          "base_uri": "https://localhost:8080/"
        },
        "id": "uvplfN-BMHwi",
        "outputId": "63800e5a-71b1-48be-f037-eba659b811fa"
      },
      "execution_count": 25,
      "outputs": [
        {
          "output_type": "execute_result",
          "data": {
            "text/plain": [
              "50000"
            ]
          },
          "metadata": {},
          "execution_count": 25
        }
      ]
    },
    {
      "cell_type": "code",
      "source": [
        "emp_1.apply_raise()"
      ],
      "metadata": {
        "id": "RiooYcI9NEKY"
      },
      "execution_count": 28,
      "outputs": []
    },
    {
      "cell_type": "code",
      "source": [
        "emp_1.pay"
      ],
      "metadata": {
        "colab": {
          "base_uri": "https://localhost:8080/"
        },
        "id": "B6SQ1MY0NI1A",
        "outputId": "873bc78a-d218-49ec-acdc-09d231eefe2e"
      },
      "execution_count": 29,
      "outputs": [
        {
          "output_type": "execute_result",
          "data": {
            "text/plain": [
              "52000"
            ]
          },
          "metadata": {},
          "execution_count": 29
        }
      ]
    },
    {
      "cell_type": "code",
      "source": [
        "emp_2.apply_raise()"
      ],
      "metadata": {
        "id": "Ml2-gWuHJwYw"
      },
      "execution_count": 30,
      "outputs": []
    },
    {
      "cell_type": "code",
      "source": [
        "emp_2.pay"
      ],
      "metadata": {
        "colab": {
          "base_uri": "https://localhost:8080/"
        },
        "id": "UEmn8zrfLg1w",
        "outputId": "37d26f95-730e-4920-f9fc-9311b972470e"
      },
      "execution_count": 31,
      "outputs": [
        {
          "output_type": "execute_result",
          "data": {
            "text/plain": [
              "20800"
            ]
          },
          "metadata": {},
          "execution_count": 31
        }
      ]
    },
    {
      "cell_type": "code",
      "source": [
        "emp_1.__dict__"
      ],
      "metadata": {
        "colab": {
          "base_uri": "https://localhost:8080/"
        },
        "id": "66tBTwApLhH6",
        "outputId": "f3dd018e-e327-43d5-8f49-711b3a8abfe3"
      },
      "execution_count": 33,
      "outputs": [
        {
          "output_type": "execute_result",
          "data": {
            "text/plain": [
              "{'email': 'Sudhir.Sajan@company.com',\n",
              " 'first': 'Sudhir',\n",
              " 'last': 'Sajan',\n",
              " 'pay': 52000}"
            ]
          },
          "metadata": {},
          "execution_count": 33
        }
      ]
    },
    {
      "cell_type": "code",
      "source": [
        "emp_2.__dict__"
      ],
      "metadata": {
        "colab": {
          "base_uri": "https://localhost:8080/"
        },
        "id": "5Ia7efmZNkPI",
        "outputId": "4bc70f73-c1c4-4a30-9574-94c4e3773cda"
      },
      "execution_count": 34,
      "outputs": [
        {
          "output_type": "execute_result",
          "data": {
            "text/plain": [
              "{'email': 'Sathya.Raja@company.com',\n",
              " 'first': 'Sathya',\n",
              " 'last': 'Raja',\n",
              " 'pay': 20800}"
            ]
          },
          "metadata": {},
          "execution_count": 34
        }
      ]
    },
    {
      "cell_type": "markdown",
      "source": [
        "Class methods - Alternative Consructors"
      ],
      "metadata": {
        "id": "XDYXWSOePf_K"
      }
    },
    {
      "cell_type": "code",
      "source": [
        "class Employee:\n",
        "  raise_amount = 1.04\n",
        "\n",
        "  def __init__(self, first, last, pay):\n",
        "    self.first = first\n",
        "    self.last = last\n",
        "    self.pay = pay\n",
        "    self.email = first +'.'+ last +'@company.com'\n",
        "  \n",
        "  def fullname(self):\n",
        "    return '{} {}'.format(self.first, self.last)\n",
        "\n",
        "  def apply_raise(self):\n",
        "    self.pay = int(self.pay * self.raise_amount)\n",
        "  \n",
        "  @classmethod                                     #Decorators\n",
        "  def set_raise_amt(cls , amount):\n",
        "    cls.raise_amt = amount\n",
        "\n",
        "emp_1 = Employee('Sudhir','Sajan', 50000)\n",
        "emp_2 = Employee('Sathya','Raja',20000)\n",
        "\n",
        "Employee.set_raise_amt(1.05)"
      ],
      "metadata": {
        "id": "9UlNGxztOOVZ"
      },
      "execution_count": 35,
      "outputs": []
    },
    {
      "cell_type": "code",
      "source": [
        "print(Employee.raise_amt)\n",
        "print(emp_1.raise_amt)\n",
        "print(emp_2.raise_amt)"
      ],
      "metadata": {
        "colab": {
          "base_uri": "https://localhost:8080/"
        },
        "id": "GrHu4R6rOOn4",
        "outputId": "7b5a79a8-9f60-41e9-bee8-f915e9105273"
      },
      "execution_count": 36,
      "outputs": [
        {
          "output_type": "stream",
          "name": "stdout",
          "text": [
            "1.05\n",
            "1.05\n",
            "1.05\n"
          ]
        }
      ]
    },
    {
      "cell_type": "code",
      "source": [
        "class Employee:\n",
        "  raise_amount = 1.04\n",
        "\n",
        "  def __init__(self, first, last, pay):\n",
        "    self.first = first\n",
        "    self.last = last\n",
        "    self.pay = pay\n",
        "    self.email = first +'.'+ last +'@company.com'\n",
        "  \n",
        "  def fullname(self):\n",
        "    return '{} {}'.format(self.first, self.last)\n",
        "\n",
        "  def apply_raise(self):\n",
        "    self.pay = int(self.pay * self.raise_amount)\n",
        "  \n",
        "  @classmethod                                     #Decorators\n",
        "  def set_raise_amt(cls , amount):\n",
        "    cls.raise_amt = amount\n",
        "\n",
        "  @classmethod                                     #Decorators\n",
        "  def string_parse(cls,emp_str):\n",
        "    first , last , pay = emp_str.split('-')\n",
        "    return cls(first, last, pay)\n",
        "\n",
        "emp_str_1 = 'John-Doe-70000'\n",
        "emp_string_1 = Employee.string_parse(emp_str_1)\n",
        "\n",
        "emp_string_1.email"
      ],
      "metadata": {
        "colab": {
          "base_uri": "https://localhost:8080/",
          "height": 35
        },
        "id": "I4Z-TpHPZs2z",
        "outputId": "41712a5e-a89d-4e42-a986-50de3d9e8170"
      },
      "execution_count": 42,
      "outputs": [
        {
          "output_type": "execute_result",
          "data": {
            "text/plain": [
              "'John.Doe@company.com'"
            ],
            "application/vnd.google.colaboratory.intrinsic+json": {
              "type": "string"
            }
          },
          "metadata": {},
          "execution_count": 42
        }
      ]
    },
    {
      "cell_type": "code",
      "source": [
        "emp_string_1.__dict__"
      ],
      "metadata": {
        "colab": {
          "base_uri": "https://localhost:8080/"
        },
        "id": "C1NKylbzgB1N",
        "outputId": "9f6e78e3-a16c-44b8-a1c7-19d24d99f8da"
      },
      "execution_count": 43,
      "outputs": [
        {
          "output_type": "execute_result",
          "data": {
            "text/plain": [
              "{'email': 'John.Doe@company.com',\n",
              " 'first': 'John',\n",
              " 'last': 'Doe',\n",
              " 'pay': '70000'}"
            ]
          },
          "metadata": {},
          "execution_count": 43
        }
      ]
    },
    {
      "cell_type": "markdown",
      "source": [
        "Static Methods"
      ],
      "metadata": {
        "id": "z9PaHWiMhfzd"
      }
    },
    {
      "cell_type": "code",
      "source": [
        "class work_day_check:\n",
        "  @staticmethod                                #Decorators\n",
        "  def day_check(day):                          # Direct argument i.e no class or self Instance\n",
        "    if day.weekday() == 5 or day.weekday() == 7:\n",
        "      return False\n",
        "    return True"
      ],
      "metadata": {
        "id": "RVKTefg2hj7U"
      },
      "execution_count": 48,
      "outputs": []
    },
    {
      "cell_type": "code",
      "source": [
        "import datetime\n",
        "my_date = datetime.date(2018,4,21)"
      ],
      "metadata": {
        "id": "V7lwiLTUiqF2"
      },
      "execution_count": 49,
      "outputs": []
    },
    {
      "cell_type": "code",
      "source": [
        "work_day_check.day_check(my_date)"
      ],
      "metadata": {
        "colab": {
          "base_uri": "https://localhost:8080/"
        },
        "id": "pCl-EP89jP7_",
        "outputId": "06847810-7cd3-4297-f8ee-75b1b4fb1578"
      },
      "execution_count": 50,
      "outputs": [
        {
          "output_type": "execute_result",
          "data": {
            "text/plain": [
              "False"
            ]
          },
          "metadata": {},
          "execution_count": 50
        }
      ]
    },
    {
      "cell_type": "markdown",
      "source": [
        "Inheritance (Develper and Manager) >> Creating Subclass"
      ],
      "metadata": {
        "id": "tP0-X9TFjng3"
      }
    },
    {
      "cell_type": "markdown",
      "source": [
        "Developer"
      ],
      "metadata": {
        "id": "MQSDp4yN42h5"
      }
    },
    {
      "cell_type": "code",
      "source": [
        "class Employee:\n",
        "  raise_amount = 1.04\n",
        "\n",
        "  def __init__(self, first, last, pay):\n",
        "    self.first = first\n",
        "    self.last = last\n",
        "    self.pay = pay\n",
        "    self.email = first +'.'+ last +'@company.com'\n",
        "  \n",
        "  def fullname(self):\n",
        "    return '{} {}'.format(self.first, self.last)\n",
        "\n",
        "  def apply_raise(self):\n",
        "    self.pay = int(self.pay * self.raise_amount)\n",
        "\n",
        "class Developer(Employee):\n",
        "  raise_amount = 1.04\n",
        "  \n",
        "  def __init__(self,first, last, pay, prog_lang):\n",
        "    super().__init__(first, last, pay)\n",
        "    self.prog_lang = prog_lang\n",
        "\n",
        "#created \"Developer\" subclass which inherit class Employee... and we can define and assign new argument....super()__init__ is here to inherit previous arguments"
      ],
      "metadata": {
        "id": "t2p0LLBnjpqn"
      },
      "execution_count": 51,
      "outputs": []
    },
    {
      "cell_type": "code",
      "source": [
        "dev_1 = Developer('Sudhir','Sajan', 50000,'Python')"
      ],
      "metadata": {
        "id": "GDpa9ItCqgp2"
      },
      "execution_count": 52,
      "outputs": []
    },
    {
      "cell_type": "code",
      "source": [
        "dev_1.email"
      ],
      "metadata": {
        "colab": {
          "base_uri": "https://localhost:8080/",
          "height": 35
        },
        "id": "s9ehweiJquRe",
        "outputId": "ba5de637-56e5-4c74-dfc8-aa28947fdb8f"
      },
      "execution_count": 53,
      "outputs": [
        {
          "output_type": "execute_result",
          "data": {
            "text/plain": [
              "'Sudhir.Sajan@company.com'"
            ],
            "application/vnd.google.colaboratory.intrinsic+json": {
              "type": "string"
            }
          },
          "metadata": {},
          "execution_count": 53
        }
      ]
    },
    {
      "cell_type": "code",
      "source": [
        "dev_1.pay"
      ],
      "metadata": {
        "colab": {
          "base_uri": "https://localhost:8080/"
        },
        "id": "F8VqRLZGq8T_",
        "outputId": "60ac4654-716e-4634-9376-d3db005c6f8f"
      },
      "execution_count": 54,
      "outputs": [
        {
          "output_type": "execute_result",
          "data": {
            "text/plain": [
              "50000"
            ]
          },
          "metadata": {},
          "execution_count": 54
        }
      ]
    },
    {
      "cell_type": "code",
      "source": [
        "dev_1.apply_raise()"
      ],
      "metadata": {
        "id": "q5AI8Yveq0y_"
      },
      "execution_count": 55,
      "outputs": []
    },
    {
      "cell_type": "code",
      "source": [
        "dev_1.pay"
      ],
      "metadata": {
        "colab": {
          "base_uri": "https://localhost:8080/"
        },
        "id": "tv9bgtJprCJG",
        "outputId": "00133f5b-854b-4159-8624-f8cdf4c513a2"
      },
      "execution_count": 56,
      "outputs": [
        {
          "output_type": "execute_result",
          "data": {
            "text/plain": [
              "52000"
            ]
          },
          "metadata": {},
          "execution_count": 56
        }
      ]
    },
    {
      "cell_type": "markdown",
      "source": [
        "Manager"
      ],
      "metadata": {
        "id": "PkSSsDbO45ZR"
      }
    },
    {
      "cell_type": "code",
      "source": [
        "class Manager(Employee):\n",
        "    def __init__(self,first, last, pay, employees=None):\n",
        "      super().__init__(first, last, pay)\n",
        "      if employees is None:\n",
        "        self.employees = []\n",
        "      else:\n",
        "        self.employees = employees\n",
        "\n",
        "    def add_emp(self,emp):\n",
        "      if emp not in self.employees:\n",
        "        self.employees.append(emp)\n",
        "    \n",
        "    def remove_emp(self,emp):\n",
        "      if emp in self.employees:\n",
        "        self.employees.remove(emp)\n",
        "    \n",
        "    def print_emps(self):\n",
        "      for emp in self.employees:\n",
        "        print('--->',emp.fullname())"
      ],
      "metadata": {
        "id": "NjIQZrcZ44d5"
      },
      "execution_count": 70,
      "outputs": []
    },
    {
      "cell_type": "code",
      "source": [
        "dev_1 = Developer('Sudhir','Sajan', 50000, 'Python')\n",
        "dev_2 = Developer('Sathya','Raja', 20000, 'Java')\n",
        "\n",
        "mgr_1 = Manager('Sue','Smith',350000, [dev_1])\n",
        "mgr_2 = Manager('Raj','Punith',30000, [dev_2])"
      ],
      "metadata": {
        "id": "P7s3_YF57nQb"
      },
      "execution_count": 71,
      "outputs": []
    },
    {
      "cell_type": "code",
      "source": [
        "mgr_1.email"
      ],
      "metadata": {
        "colab": {
          "base_uri": "https://localhost:8080/",
          "height": 35
        },
        "id": "f0T9Vyix-xEj",
        "outputId": "d5302996-3e08-4167-c010-414b8401d967"
      },
      "execution_count": 72,
      "outputs": [
        {
          "output_type": "execute_result",
          "data": {
            "text/plain": [
              "'Sue.Smith@company.com'"
            ],
            "application/vnd.google.colaboratory.intrinsic+json": {
              "type": "string"
            }
          },
          "metadata": {},
          "execution_count": 72
        }
      ]
    },
    {
      "cell_type": "code",
      "source": [
        "mgr_1.add_emp(dev_2)"
      ],
      "metadata": {
        "id": "pnSFFuIh-2S1"
      },
      "execution_count": 73,
      "outputs": []
    },
    {
      "cell_type": "code",
      "source": [
        "mgr_1.print_emps()"
      ],
      "metadata": {
        "colab": {
          "base_uri": "https://localhost:8080/"
        },
        "id": "ua7W5yib_JmK",
        "outputId": "cdf12c47-708b-44b5-f9d1-4f159887e434"
      },
      "execution_count": 74,
      "outputs": [
        {
          "output_type": "stream",
          "name": "stdout",
          "text": [
            "---> Sudhir Sajan\n",
            "---> Sathya Raja\n"
          ]
        }
      ]
    },
    {
      "cell_type": "code",
      "source": [
        "mgr_1.remove_emp(dev_1)"
      ],
      "metadata": {
        "id": "risAM3zI_We7"
      },
      "execution_count": 75,
      "outputs": []
    },
    {
      "cell_type": "code",
      "source": [
        "mgr_1.print_emps()"
      ],
      "metadata": {
        "colab": {
          "base_uri": "https://localhost:8080/"
        },
        "id": "CLz8qvNAAIMq",
        "outputId": "19fe22b7-8d86-4266-ec8c-bf9044cc4774"
      },
      "execution_count": 76,
      "outputs": [
        {
          "output_type": "stream",
          "name": "stdout",
          "text": [
            "---> Sathya Raja\n"
          ]
        }
      ]
    },
    {
      "cell_type": "markdown",
      "source": [
        "Built-in Subclass and Isinstance function"
      ],
      "metadata": {
        "id": "_MxLcqgZA_ND"
      }
    },
    {
      "cell_type": "code",
      "source": [
        "isinstance(mgr_1,Manager)"
      ],
      "metadata": {
        "colab": {
          "base_uri": "https://localhost:8080/"
        },
        "id": "Tj8xtlCmAjDL",
        "outputId": "6f819ad1-41cc-4fa7-a265-aa37b572c58e"
      },
      "execution_count": 77,
      "outputs": [
        {
          "output_type": "execute_result",
          "data": {
            "text/plain": [
              "True"
            ]
          },
          "metadata": {},
          "execution_count": 77
        }
      ]
    },
    {
      "cell_type": "code",
      "source": [
        "isinstance(mgr_1,Developer)"
      ],
      "metadata": {
        "colab": {
          "base_uri": "https://localhost:8080/"
        },
        "id": "e_7uf8JcBZWD",
        "outputId": "1db26a1e-451e-41f6-a2ae-a91ef6608c89"
      },
      "execution_count": 78,
      "outputs": [
        {
          "output_type": "execute_result",
          "data": {
            "text/plain": [
              "False"
            ]
          },
          "metadata": {},
          "execution_count": 78
        }
      ]
    },
    {
      "cell_type": "code",
      "source": [
        "isinstance(dev_1,Developer)"
      ],
      "metadata": {
        "colab": {
          "base_uri": "https://localhost:8080/"
        },
        "id": "OG4mGTKaBdcT",
        "outputId": "c85c5e8f-e0a4-42c0-82e2-f979b9e98720"
      },
      "execution_count": 79,
      "outputs": [
        {
          "output_type": "execute_result",
          "data": {
            "text/plain": [
              "True"
            ]
          },
          "metadata": {},
          "execution_count": 79
        }
      ]
    },
    {
      "cell_type": "code",
      "source": [
        "isinstance(dev_1,Manager)"
      ],
      "metadata": {
        "colab": {
          "base_uri": "https://localhost:8080/"
        },
        "id": "mHp_fAh2Bioa",
        "outputId": "d6609e98-d86d-4310-a2e2-ea1419021d0d"
      },
      "execution_count": 80,
      "outputs": [
        {
          "output_type": "execute_result",
          "data": {
            "text/plain": [
              "False"
            ]
          },
          "metadata": {},
          "execution_count": 80
        }
      ]
    },
    {
      "cell_type": "code",
      "source": [
        "isinstance(mgr_1, Employee)"
      ],
      "metadata": {
        "colab": {
          "base_uri": "https://localhost:8080/"
        },
        "id": "TlJtREZaBn_C",
        "outputId": "d6cec56d-7cb8-432b-9f3e-0f5c49ee6269"
      },
      "execution_count": 83,
      "outputs": [
        {
          "output_type": "execute_result",
          "data": {
            "text/plain": [
              "True"
            ]
          },
          "metadata": {},
          "execution_count": 83
        }
      ]
    },
    {
      "cell_type": "code",
      "source": [
        "issubclass(Developer,Manager)"
      ],
      "metadata": {
        "colab": {
          "base_uri": "https://localhost:8080/"
        },
        "id": "NEI3qb_6B38K",
        "outputId": "7772475d-a3c3-4f58-fd89-38b665bb4d05"
      },
      "execution_count": 85,
      "outputs": [
        {
          "output_type": "execute_result",
          "data": {
            "text/plain": [
              "False"
            ]
          },
          "metadata": {},
          "execution_count": 85
        }
      ]
    },
    {
      "cell_type": "code",
      "source": [
        "issubclass(Developer,Employee)"
      ],
      "metadata": {
        "colab": {
          "base_uri": "https://localhost:8080/"
        },
        "id": "rldcYW8sCM99",
        "outputId": "9025e7f5-c72c-4c9c-c37e-242f5d6d65c7"
      },
      "execution_count": 86,
      "outputs": [
        {
          "output_type": "execute_result",
          "data": {
            "text/plain": [
              "True"
            ]
          },
          "metadata": {},
          "execution_count": 86
        }
      ]
    },
    {
      "cell_type": "code",
      "source": [
        "issubclass(Manager,Employee)"
      ],
      "metadata": {
        "colab": {
          "base_uri": "https://localhost:8080/"
        },
        "id": "zEvtXmceCT27",
        "outputId": "b70b3ac5-bc9d-4563-8773-220fb46a70e9"
      },
      "execution_count": 87,
      "outputs": [
        {
          "output_type": "execute_result",
          "data": {
            "text/plain": [
              "True"
            ]
          },
          "metadata": {},
          "execution_count": 87
        }
      ]
    }
  ]
}